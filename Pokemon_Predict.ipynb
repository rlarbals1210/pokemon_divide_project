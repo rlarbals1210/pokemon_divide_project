{
 "cells": [
  {
   "cell_type": "code",
   "execution_count": null,
   "id": "e980e411-eb01-4a4b-9727-5bce37fd821a",
   "metadata": {},
   "outputs": [],
   "source": [
    "import numpy as np\n",
    "import tensorflow as tf\n",
    "from tensorflow.keras.preprocessing import image\n",
    "from tensorflow.keras.applications.mobilenet_v2 import preprocess_input\n",
    "from tensorflow.keras.models import load_model\n",
    "\n",
    "# 1) 모델 로드\n",
    "model = load_model(\"Project_Pokemon/Py/pokemon_types_multilabel.keras\")\n",
    "\n",
    "# 2) 타입 라벨 불러오기\n",
    "label_cols = list(mlb.classes_)   # 학습할 때 쓰던 MultiLabelBinarizer의 클래스 순서\n",
    "\n",
    "# 3) 테스트할 이미지 경로\n",
    "test_path = \"Project_Pokemon/PokemonData/Zapdos/Zapdos86.jpg\"\n",
    "\n",
    "# 4) 이미지 로드 & 전처리\n",
    "img = image.load_img(test_path, target_size=(224, 224))\n",
    "img_array = image.img_to_array(img)\n",
    "img_array = np.expand_dims(img_array, axis=0)\n",
    "img_array = preprocess_input(img_array)\n",
    "\n",
    "# 5) 예측\n",
    "preds = model.predict(img_array)[0]  # (num_labels,) 벡터\n",
    "\n",
    "# 6) 결과 해석\n",
    "threshold = 0.5  # 0.5 이상이면 해당 타입이라고 판단\n",
    "pred_labels = [label_cols[i] for i, p in enumerate(preds) if p >= threshold]\n",
    "\n",
    "print(\"=== 예측 결과 ===\")\n",
    "for lbl, prob in zip(label_cols, preds):\n",
    "    print(f\"{lbl}: {prob:.3f}\")\n",
    "print(\"선택된 타입:\", pred_labels)\n"
   ]
  }
 ],
 "metadata": {
  "kernelspec": {
   "display_name": "Python [conda env:base] *",
   "language": "python",
   "name": "conda-base-py"
  },
  "language_info": {
   "codemirror_mode": {
    "name": "ipython",
    "version": 3
   },
   "file_extension": ".py",
   "mimetype": "text/x-python",
   "name": "python",
   "nbconvert_exporter": "python",
   "pygments_lexer": "ipython3",
   "version": "3.13.5"
  }
 },
 "nbformat": 4,
 "nbformat_minor": 5
}
