{
 "cells": [
  {
   "cell_type": "code",
   "execution_count": 1,
   "id": "fdbe3d50-aa7f-458e-bc74-f206d6389a7c",
   "metadata": {},
   "outputs": [
    {
     "name": "stdout",
     "output_type": "stream",
     "text": [
      "        Name                                 filepath\n",
      "0  Bulbasaur   ./PokemonData\\Bulbasaur\\Bulbasaur1.jpg\n",
      "1  Bulbasaur  ./PokemonData\\Bulbasaur\\Bulbasaur10.jpg\n",
      "2  Bulbasaur  ./PokemonData\\Bulbasaur\\Bulbasaur11.jpg\n",
      "3  Bulbasaur  ./PokemonData\\Bulbasaur\\Bulbasaur12.jpg\n",
      "4  Bulbasaur  ./PokemonData\\Bulbasaur\\Bulbasaur13.jpg\n",
      "           Name    Type1   Type2            labels\n",
      "0     Bulbasaur    Grass  Poison   [Grass, Poison]\n",
      "1       Ivysaur    Grass  Poison   [Grass, Poison]\n",
      "2      Venusaur    Grass  Poison   [Grass, Poison]\n",
      "3    Charmander     Fire                    [Fire]\n",
      "4    Charmeleon     Fire                    [Fire]\n",
      "..          ...      ...     ...               ...\n",
      "146     Dratini   Dragon                  [Dragon]\n",
      "147   Dragonair   Dragon                  [Dragon]\n",
      "148   Dragonite   Dragon  Flying  [Dragon, Flying]\n",
      "149      Mewtwo  Psychic                 [Psychic]\n",
      "150         Mew  Psychic                 [Psychic]\n",
      "\n",
      "[151 rows x 4 columns]\n",
      "클래스(타입): ['Bug' 'Dragon' 'Electric' 'Fairy' 'Fighting' 'Fire' 'Flying' 'Ghost'\n",
      " 'Grass' 'Ground' 'Ice' 'Normal' 'Poison' 'Psychic' 'Rock' 'Steel' 'Water']\n",
      "샘플 라벨: [0 0 0 0 0 0 0 0 1 0 0 0 1 0 0 0 0]\n"
     ]
    }
   ],
   "source": [
    "import os\n",
    "import pandas as pd\n",
    "import numpy as np\n",
    "import tensorflow as tf\n",
    "from sklearn.model_selection import train_test_split\n",
    "from sklearn.preprocessing import MultiLabelBinarizer\n",
    "from tensorflow.keras.applications import MobileNetV2\n",
    "from tensorflow.keras.layers import Dense, Dropout, GlobalAveragePooling2D\n",
    "from tensorflow.keras.models import Model\n",
    "from tensorflow.keras.callbacks import ModelCheckpoint, EarlyStopping\n",
    "\n",
    "csv_path = \"./pokemon_gen1.csv\" \n",
    "img_dir = \"./PokemonData\"    \n",
    "\n",
    "#csv 불러오기\n",
    "df = pd.read_csv(csv_path)\n",
    "import os\n",
    "\n",
    "# 이미지 경로 \n",
    "image_paths = []\n",
    "\n",
    "for name in df[\"Name\"]:\n",
    "    folder_path = os.path.join(img_dir, name)  # 예: \"./PokemonData/Bulbasaur\"\n",
    "    if os.path.exists(folder_path):\n",
    "        files = os.listdir(folder_path)  # 해당 폴더 안의 파일들\n",
    "        for f in files:\n",
    "            image_paths.append({\n",
    "                \"Name\": name,\n",
    "                \"filepath\": os.path.join(folder_path, f)\n",
    "            })\n",
    "\n",
    "# 새로운 DataFrame으로 정리\n",
    "image_df = pd.DataFrame(image_paths)\n",
    "print(image_df.head())    #잘 불러와 지는 지 확인\n",
    "\n",
    "#타입 분류\n",
    "df[\"Type2\"] = df[\"Type2\"].fillna(\"\")  #fillna => 결측치를 공백으로 변환\n",
    "df[\"labels\"] = df.apply(lambda x: [x[\"Type1\"]] if x[\"Type2\"] == \"\" else [x[\"Type1\"], x[\"Type2\"]], axis=1) #lambda = 한 줄로 함수 만들기\n",
    "print(df) #결과 확인\n",
    "\n",
    "mlb = MultiLabelBinarizer()        # MultiLabelBinarizer타입을 2진수로 변환하기 위해 사용하는 도구\n",
    "x = mlb.fit_transform(df[\"labels\"]) # 타입을 2진수로 변환\n",
    "\n",
    "print(\"클래스(타입):\", mlb.classes_)\n",
    "print(\"샘플 라벨:\", x[0])"
   ]
  },
  {
   "cell_type": "code",
   "execution_count": null,
   "id": "b3ccfd8e-648c-4d29-a6bb-390363541ece",
   "metadata": {},
   "outputs": [],
   "source": []
  }
 ],
 "metadata": {
  "kernelspec": {
   "display_name": "Python [conda env:base] *",
   "language": "python",
   "name": "conda-base-py"
  },
  "language_info": {
   "codemirror_mode": {
    "name": "ipython",
    "version": 3
   },
   "file_extension": ".py",
   "mimetype": "text/x-python",
   "name": "python",
   "nbconvert_exporter": "python",
   "pygments_lexer": "ipython3",
   "version": "3.13.5"
  }
 },
 "nbformat": 4,
 "nbformat_minor": 5
}
